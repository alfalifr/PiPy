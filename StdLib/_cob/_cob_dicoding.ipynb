{
 "cells": [
  {
   "cell_type": "code",
   "execution_count": null,
   "metadata": {
    "collapsed": true
   },
   "outputs": [],
   "source": []
  },
  {
   "cell_type": "code",
   "execution_count": null,
   "outputs": [],
   "source": [
    "arr = [33, 22, 10, 21, 6, 94, 4]\n",
    "n = arr.__len__()\n",
    "for (i = 0; i > n-1; i++)\n",
    "  FOR (j = 0; j < n-1; j++)\n",
    "    IF (arr[j] < arr[j+1])\n",
    "      temp = arr[j]\n",
    "      arr[j] = arr[j+1]\n",
    "      arr[j+1] = temp\n",
    "    END IF\n",
    "  END FOR\n",
    "END FOR\n",
    "\n",
    "FOR (i = n-1; i >= 0; i--)\n",
    "  print(arr[i] + \" \")"
   ],
   "metadata": {
    "collapsed": false,
    "pycharm": {
     "name": "#%%\n"
    }
   }
  },
  {
   "cell_type": "code",
   "execution_count": 2,
   "outputs": [
    {
     "data": {
      "text/plain": "4"
     },
     "execution_count": 2,
     "metadata": {},
     "output_type": "execute_result"
    }
   ],
   "source": [
    "from statistics import mode\n",
    "\n",
    "mode([3, 5, 3, 9, 7, 6, 9, 4, 7, 7, 4, 3, 4, 2, 4, 5, 4, 5, 6, 8, 8, 3])"
   ],
   "metadata": {
    "collapsed": false,
    "pycharm": {
     "name": "#%%\n"
    }
   }
  }
 ],
 "metadata": {
  "kernelspec": {
   "display_name": "Python 3",
   "language": "python",
   "name": "python3"
  },
  "language_info": {
   "codemirror_mode": {
    "name": "ipython",
    "version": 2
   },
   "file_extension": ".py",
   "mimetype": "text/x-python",
   "name": "python",
   "nbconvert_exporter": "python",
   "pygments_lexer": "ipython2",
   "version": "2.7.6"
  }
 },
 "nbformat": 4,
 "nbformat_minor": 0
}